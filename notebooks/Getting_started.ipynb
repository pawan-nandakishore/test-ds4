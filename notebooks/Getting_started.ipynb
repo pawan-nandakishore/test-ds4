{
 "cells": [
  {
   "cell_type": "markdown",
   "metadata": {},
   "source": [
    "# Getting started \n",
    "\n",
    "The first thing you need to do is to create a virtual environment. \n",
    "\n",
    "You can create a virtual enviroment either in: \n",
    "\n",
    "1) Virtual env \n",
    "2) Conda\n",
    "\n",
    "\n",
    "\n"
   ]
  },
  {
   "cell_type": "markdown",
   "metadata": {},
   "source": [
    "## Creating a virtual environment using virtual env\n",
    "**--add text here--**"
   ]
  },
  {
   "cell_type": "markdown",
   "metadata": {},
   "source": [
    "## Creating a virtual environment using conda\n",
    "**--add text here--**"
   ]
  },
  {
   "cell_type": "markdown",
   "metadata": {},
   "source": [
    "\n",
    "Once you have done that and run \n",
    "\n",
    "``` pip install -r requirements.txt``` \n",
    "\n",
    "to install the relevant libraries. Once you have all the libraries you can start by  reading through the following: \n",
    "\n",
    "1) How to use this framework \n",
    "2) Project Instructions "
   ]
  }
 ],
 "metadata": {
  "kernelspec": {
   "display_name": "Python 3",
   "language": "python",
   "name": "python3"
  },
  "language_info": {
   "codemirror_mode": {
    "name": "ipython",
    "version": 3
   },
   "file_extension": ".py",
   "mimetype": "text/x-python",
   "name": "python",
   "nbconvert_exporter": "python",
   "pygments_lexer": "ipython3",
   "version": "3.7.3"
  }
 },
 "nbformat": 4,
 "nbformat_minor": 4
}
