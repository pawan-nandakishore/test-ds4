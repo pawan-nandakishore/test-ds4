{
 "cells": [
  {
   "cell_type": "markdown",
   "metadata": {},
   "source": [
    "# How to use this Framework \n"
   ]
  },
  {
   "cell_type": "markdown",
   "metadata": {},
   "source": [
    "## Data \n",
    "- Store your raw, processed and interim data here \n",
    "- Make sure that you dont commit data to github. It cannot hold large datasets\n",
    "- Even if you get your  data from weblinks, store your processed dataset\n",
    "\n"
   ]
  },
  {
   "cell_type": "markdown",
   "metadata": {},
   "source": [
    "## Docs \n",
    "This holds the Sphinx documentation system for your project. You can add all the documentation that you need for the project. \n",
    "Make sure you keep filling in the documentations you go along. Sphinx also allows for storing docstrings as documentation\n",
    "**--more on sphinx here--**"
   ]
  },
  {
   "cell_type": "markdown",
   "metadata": {},
   "source": [
    "## Reports\n",
    "This is where you will store the documentation for each of the Stress tests. You will need to ensure that you keep track of everything that you submitted for the documentation here \n"
   ]
  },
  {
   "cell_type": "markdown",
   "metadata": {},
   "source": [
    "## Notebooks\n",
    " This is where you will store your jupyter notebooks. All the analysis that you will be doing will be in jupyter notebooks\n"
   ]
  },
  {
   "cell_type": "markdown",
   "metadata": {},
   "source": [
    "# Scripts\n",
    "There may be times where you may want to run individual python scripts to run checks. You can store those here\n"
   ]
  },
  {
   "cell_type": "markdown",
   "metadata": {},
   "source": [
    "## src \n",
    "\n",
    "This folder contains the module src. This is a custom module that you will be adding to ask you finish doing your analysis in your notebooks. As you finish your analysis, you will package your code as functions then move them here so you can write a clean version for you to show. "
   ]
  },
  {
   "cell_type": "markdown",
   "metadata": {},
   "source": [
    "## Models\n",
    " Store your model pickle files here"
   ]
  }
 ],
 "metadata": {
  "kernelspec": {
   "display_name": "Python 3",
   "language": "python",
   "name": "python3"
  },
  "language_info": {
   "codemirror_mode": {
    "name": "ipython",
    "version": 3
   },
   "file_extension": ".py",
   "mimetype": "text/x-python",
   "name": "python",
   "nbconvert_exporter": "python",
   "pygments_lexer": "ipython3",
   "version": "3.7.3"
  }
 },
 "nbformat": 4,
 "nbformat_minor": 4
}
